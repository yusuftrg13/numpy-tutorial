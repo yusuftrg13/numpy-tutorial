{
  "nbformat": 4,
  "nbformat_minor": 0,
  "metadata": {
    "colab": {
      "provenance": []
    },
    "kernelspec": {
      "name": "python3",
      "display_name": "Python 3"
    },
    "language_info": {
      "name": "python"
    }
  },
  "cells": [
    {
      "cell_type": "code",
      "execution_count": 1,
      "metadata": {
        "colab": {
          "base_uri": "https://localhost:8080/",
          "height": 36
        },
        "id": "qY91bHdMEzUm",
        "outputId": "65ec5013-3892-4be9-8e86-b474bcbe22b9"
      },
      "outputs": [
        {
          "output_type": "execute_result",
          "data": {
            "text/plain": [
              "'Pyhton ile istatiksel analizler yapmamızı sağlayan kütüphanedir.'"
            ],
            "application/vnd.google.colaboratory.intrinsic+json": {
              "type": "string"
            }
          },
          "metadata": {},
          "execution_count": 1
        }
      ],
      "source": [
        "\"\"\"Pyhton ile istatiksel analizler yapmamızı sağlayan kütüphanedir.\"\"\"\n"
      ]
    },
    {
      "cell_type": "code",
      "source": [
        "#1)numpy.array ile Liste veya tuple'dan Array oluşturma\n",
        "import numpy as np\n",
        "\n",
        "#Bir listeyi numpy array'e dönüştürelim\n",
        "arr=np.array([10,20,30,40,50])\n",
        "print(arr)\n",
        "\n",
        "#Tuple'dan array oluşturma\n",
        "arr_tuple=np.array((10,20,30,40,50))\n",
        "print(arr_tuple)\n"
      ],
      "metadata": {
        "colab": {
          "base_uri": "https://localhost:8080/"
        },
        "id": "YuWKRUaJGZFM",
        "outputId": "9f4b184e-79bf-4eed-90d9-063a8e1a2e64"
      },
      "execution_count": 2,
      "outputs": [
        {
          "output_type": "stream",
          "name": "stdout",
          "text": [
            "[10 20 30 40 50]\n",
            "[10 20 30 40 50]\n"
          ]
        }
      ]
    },
    {
      "cell_type": "code",
      "source": [
        "#numpy.zeros ile Sıfırlarla dolu array oluşturma\n",
        "\n",
        "#1D sıfırlarla dolu bir array\n",
        "zero_array=np.zeros(10)\n",
        "print(zero_array)\n",
        "\n",
        "#2D sıfırlarla dolu bir array\n",
        "zero_array2=np.zeros((3,4))\n",
        "print(zero_array2)"
      ],
      "metadata": {
        "colab": {
          "base_uri": "https://localhost:8080/"
        },
        "id": "pkLNJQnFG8HA",
        "outputId": "0ce2a623-abfb-4ed8-b28b-d3d202429d1e"
      },
      "execution_count": 3,
      "outputs": [
        {
          "output_type": "stream",
          "name": "stdout",
          "text": [
            "[0. 0. 0. 0. 0. 0. 0. 0. 0. 0.]\n",
            "[[0. 0. 0. 0.]\n",
            " [0. 0. 0. 0.]\n",
            " [0. 0. 0. 0.]]\n"
          ]
        }
      ]
    },
    {
      "cell_type": "code",
      "source": [
        "#numpy.ones ile dolu bir array\n",
        "ones_array=np.ones(10)\n",
        "print(ones_array)\n",
        "\n",
        "ones_array2=np.ones((3,4))\n",
        "print(ones_array2)"
      ],
      "metadata": {
        "colab": {
          "base_uri": "https://localhost:8080/"
        },
        "id": "pZbeuYUGHey7",
        "outputId": "38c2bb51-57c3-4e1f-870c-344e37267ee3"
      },
      "execution_count": 4,
      "outputs": [
        {
          "output_type": "stream",
          "name": "stdout",
          "text": [
            "[1. 1. 1. 1. 1. 1. 1. 1. 1. 1.]\n",
            "[[1. 1. 1. 1.]\n",
            " [1. 1. 1. 1.]\n",
            " [1. 1. 1. 1.]]\n"
          ]
        }
      ]
    },
    {
      "cell_type": "code",
      "source": [
        "#numpy.random ile rastgele sayılarla\n",
        "\n",
        "rand_arr=np.random.rand(10)\n",
        "print(rand_arr)\n",
        "\n",
        "rand_arr2=np.random.rand(3,4)\n",
        "print(rand_arr2)\n",
        "\n",
        "\n",
        "\n"
      ],
      "metadata": {
        "colab": {
          "base_uri": "https://localhost:8080/"
        },
        "id": "zJB7UUHPHnPI",
        "outputId": "0f9a90fc-f1a6-4779-a3ed-fe9769f29fd0"
      },
      "execution_count": 5,
      "outputs": [
        {
          "output_type": "stream",
          "name": "stdout",
          "text": [
            "[0.46810686 0.56765585 0.77593571 0.11795426 0.06041849 0.72008674\n",
            " 0.66572104 0.66574479 0.08001303 0.18331278]\n",
            "[[0.62617734 0.47630673 0.75755741 0.00444989]\n",
            " [0.02644439 0.64010887 0.22444814 0.65010265]\n",
            " [0.2653233  0.24151636 0.17895872 0.02713918]]\n"
          ]
        }
      ]
    },
    {
      "cell_type": "code",
      "source": [
        "#numpy.full ile sabit degerli array\n",
        "const_arr=np.full((3,4),5)\n",
        "print(const_arr)"
      ],
      "metadata": {
        "colab": {
          "base_uri": "https://localhost:8080/"
        },
        "id": "OM9PfGfGI7GS",
        "outputId": "b50f53dc-d483-4bca-ffff-ea1b6c39fd26"
      },
      "execution_count": 6,
      "outputs": [
        {
          "output_type": "stream",
          "name": "stdout",
          "text": [
            "[[5 5 5 5]\n",
            " [5 5 5 5]\n",
            " [5 5 5 5]]\n"
          ]
        }
      ]
    },
    {
      "cell_type": "code",
      "source": [
        "#1-Yeniden Şekillendirme(Reshaping)\n",
        "\n",
        "#Orjinal aray 1D'li\n",
        "\n",
        "arr=np.array([10,20,30,40,50,60])\n",
        "\n",
        "\n",
        "#2D array dönüştürme\n",
        "reshaped=arr.reshape(2,3)\n",
        "print(reshaped)"
      ],
      "metadata": {
        "colab": {
          "base_uri": "https://localhost:8080/"
        },
        "id": "737leqUwJFKh",
        "outputId": "a653cffc-2452-4f52-cb72-5b9f1ebe2102"
      },
      "execution_count": 7,
      "outputs": [
        {
          "output_type": "stream",
          "name": "stdout",
          "text": [
            "[[10 20 30]\n",
            " [40 50 60]]\n"
          ]
        }
      ]
    },
    {
      "cell_type": "code",
      "source": [
        "#Birleştirme(Concatenation)\n",
        "\n",
        "arr1=np.array([1,2,3])\n",
        "arr2=np.array([4,5,6])\n",
        "\n",
        "#Birleştirme\n",
        "arr3=np.concatenate((arr1,arr2))\n",
        "print(arr3)"
      ],
      "metadata": {
        "colab": {
          "base_uri": "https://localhost:8080/"
        },
        "id": "fdTHleG2Jtbm",
        "outputId": "5047071d-4cb5-44a6-fec5-ca56a3516966"
      },
      "execution_count": 9,
      "outputs": [
        {
          "output_type": "stream",
          "name": "stdout",
          "text": [
            "[1 2 3 4 5 6]\n"
          ]
        }
      ]
    },
    {
      "cell_type": "code",
      "source": [
        "\"\"\"\n",
        "Temel İstatiksel Ölçümler\n",
        "\"\"\""
      ],
      "metadata": {
        "colab": {
          "base_uri": "https://localhost:8080/",
          "height": 36
        },
        "id": "-TJlOzfdLCa6",
        "outputId": "e8800a5d-3246-40f7-b46c-4f0bac074f28"
      },
      "execution_count": 10,
      "outputs": [
        {
          "output_type": "execute_result",
          "data": {
            "text/plain": [
              "'\\nTemel İstatiksel Ölçümler\\n'"
            ],
            "application/vnd.google.colaboratory.intrinsic+json": {
              "type": "string"
            }
          },
          "metadata": {},
          "execution_count": 10
        }
      ]
    },
    {
      "cell_type": "code",
      "source": [
        "data=np.array([13,45,67,87,56,45])\n",
        "\n",
        "#Ortalama\n",
        "mean_value=np.mean(data)\n",
        "print(\"Ortalama:\",mean_value)"
      ],
      "metadata": {
        "colab": {
          "base_uri": "https://localhost:8080/"
        },
        "id": "FEMqBLJFLU6c",
        "outputId": "39577723-520f-4744-dd9a-339a31777fae"
      },
      "execution_count": 11,
      "outputs": [
        {
          "output_type": "stream",
          "name": "stdout",
          "text": [
            "Ortalama: 52.166666666666664\n"
          ]
        }
      ]
    },
    {
      "cell_type": "code",
      "source": [
        "#Medyan:Bir dizinin ortanca değerini alır\n",
        "median_value=np.median(data)\n",
        "print(\"Medyan:\",median_value)"
      ],
      "metadata": {
        "colab": {
          "base_uri": "https://localhost:8080/"
        },
        "id": "N97eYwRpLlXx",
        "outputId": "92d857e9-2fa9-44ce-cad4-3042867f2fe1"
      },
      "execution_count": 12,
      "outputs": [
        {
          "output_type": "stream",
          "name": "stdout",
          "text": [
            "Medyan: 50.5\n"
          ]
        }
      ]
    },
    {
      "cell_type": "code",
      "source": [
        "#Standart Sapma\n",
        "std_sp=np.std(data)\n",
        "print(\"Standart Sapma:\",std_sp)"
      ],
      "metadata": {
        "colab": {
          "base_uri": "https://localhost:8080/"
        },
        "id": "68Z4OFjZWLi6",
        "outputId": "3eff0dc0-6bef-4365-ffc4-a7500702f8eb"
      },
      "execution_count": 13,
      "outputs": [
        {
          "output_type": "stream",
          "name": "stdout",
          "text": [
            "Standart Sapma: 22.674630953752892\n"
          ]
        }
      ]
    },
    {
      "cell_type": "code",
      "source": [
        "#Varyans\n",
        "variance=np.var(data)\n",
        "print(\"Varyans:\",variance)"
      ],
      "metadata": {
        "colab": {
          "base_uri": "https://localhost:8080/"
        },
        "id": "NoI7IQhUWgoG",
        "outputId": "70cbbbf3-dc2d-4158-e067-561f59f8395d"
      },
      "execution_count": 14,
      "outputs": [
        {
          "output_type": "stream",
          "name": "stdout",
          "text": [
            "Varyans: 514.1388888888888\n"
          ]
        }
      ]
    },
    {
      "cell_type": "code",
      "source": [
        "#Min-Max değerleri ile bulalım\n",
        "min_value=np.min(data)\n",
        "max_value=np.max(data)\n",
        "print(\"Min Değer:\",min_value)\n",
        "print(\"Max Değer:\",max_value)"
      ],
      "metadata": {
        "colab": {
          "base_uri": "https://localhost:8080/"
        },
        "id": "yVv3bOX6Wkov",
        "outputId": "1fb619e0-4f1a-48eb-a881-df370875ccf9"
      },
      "execution_count": 15,
      "outputs": [
        {
          "output_type": "stream",
          "name": "stdout",
          "text": [
            "Min Değer: 13\n",
            "Max Değer: 87\n"
          ]
        }
      ]
    },
    {
      "cell_type": "code",
      "source": [],
      "metadata": {
        "id": "GZ_hkL55W3nm"
      },
      "execution_count": null,
      "outputs": []
    }
  ]
}